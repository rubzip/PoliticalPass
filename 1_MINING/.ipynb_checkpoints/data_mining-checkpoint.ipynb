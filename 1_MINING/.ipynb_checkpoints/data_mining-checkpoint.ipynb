{
 "cells": [
  {
   "cell_type": "code",
   "execution_count": 1,
   "id": "e1a1bc1c",
   "metadata": {},
   "outputs": [],
   "source": [
    "import numpy as np\n",
    "import pandas as pd\n",
    "import json\n",
    "import matplotlib.pyplot as plt\n",
    "\n",
    "from fun import *"
   ]
  },
  {
   "cell_type": "code",
   "execution_count": 2,
   "id": "3db8c230",
   "metadata": {},
   "outputs": [
    {
     "data": {
      "text/html": [
       "<div>\n",
       "<style scoped>\n",
       "    .dataframe tbody tr th:only-of-type {\n",
       "        vertical-align: middle;\n",
       "    }\n",
       "\n",
       "    .dataframe tbody tr th {\n",
       "        vertical-align: top;\n",
       "    }\n",
       "\n",
       "    .dataframe thead th {\n",
       "        text-align: right;\n",
       "    }\n",
       "</style>\n",
       "<table border=\"1\" class=\"dataframe\">\n",
       "  <thead>\n",
       "    <tr style=\"text-align: right;\">\n",
       "      <th></th>\n",
       "      <th>Nombre</th>\n",
       "      <th>Ocupación</th>\n",
       "      <th>Afiliación</th>\n",
       "      <th>Izda</th>\n",
       "      <th>Twitter</th>\n",
       "    </tr>\n",
       "  </thead>\n",
       "  <tbody>\n",
       "    <tr>\n",
       "      <th>0</th>\n",
       "      <td>Unidas Podemos</td>\n",
       "      <td>Partido Político</td>\n",
       "      <td>Podemos</td>\n",
       "      <td>1</td>\n",
       "      <td>@PODEMOS</td>\n",
       "    </tr>\n",
       "    <tr>\n",
       "      <th>1</th>\n",
       "      <td>PSOE</td>\n",
       "      <td>Partido Político</td>\n",
       "      <td>PSOE</td>\n",
       "      <td>1</td>\n",
       "      <td>@PSOE</td>\n",
       "    </tr>\n",
       "    <tr>\n",
       "      <th>2</th>\n",
       "      <td>Izquierda Unida</td>\n",
       "      <td>Partido Político</td>\n",
       "      <td>IU</td>\n",
       "      <td>1</td>\n",
       "      <td>@IzquierdaUnida</td>\n",
       "    </tr>\n",
       "    <tr>\n",
       "      <th>3</th>\n",
       "      <td>Anticapitalistas</td>\n",
       "      <td>Partido Político</td>\n",
       "      <td>Anticapitalistas</td>\n",
       "      <td>1</td>\n",
       "      <td>@anticapi</td>\n",
       "    </tr>\n",
       "    <tr>\n",
       "      <th>4</th>\n",
       "      <td>Santuario Animal Almas veganas</td>\n",
       "      <td>Asociación</td>\n",
       "      <td>Santuario Animal Almas veganas</td>\n",
       "      <td>1</td>\n",
       "      <td>@AlmasVeganas</td>\n",
       "    </tr>\n",
       "  </tbody>\n",
       "</table>\n",
       "</div>"
      ],
      "text/plain": [
       "                           Nombre         Ocupación  \\\n",
       "0                  Unidas Podemos  Partido Político   \n",
       "1                            PSOE  Partido Político   \n",
       "2                 Izquierda Unida  Partido Político   \n",
       "3                Anticapitalistas  Partido Político   \n",
       "4  Santuario Animal Almas veganas        Asociación   \n",
       "\n",
       "                       Afiliación  Izda          Twitter  \n",
       "0                         Podemos     1         @PODEMOS  \n",
       "1                            PSOE     1            @PSOE  \n",
       "2                              IU     1  @IzquierdaUnida  \n",
       "3                Anticapitalistas     1        @anticapi  \n",
       "4  Santuario Animal Almas veganas     1    @AlmasVeganas  "
      ]
     },
     "execution_count": 2,
     "metadata": {},
     "output_type": "execute_result"
    }
   ],
   "source": [
    "#Import data from CSV:\n",
    "\n",
    "data = pd.read_csv('../ALL_twitter_accounts.csv')\n",
    "data.head()"
   ]
  },
  {
   "cell_type": "code",
   "execution_count": 3,
   "id": "96702253",
   "metadata": {},
   "outputs": [],
   "source": [
    "df_train, df_val = balanced_split(data)\n",
    "\n",
    "OUT_FOLDER = '../0_DATA/'\n",
    "df_train.to_csv( OUT_FOLDER + 'train-test_accounts.csv', index=False)\n",
    "df_val.to_csv( OUT_FOLDER + 'val_accounts.csv', index=False)"
   ]
  },
  {
   "cell_type": "code",
   "execution_count": 4,
   "id": "365cabe4",
   "metadata": {},
   "outputs": [],
   "source": [
    "#This dictionary contains the twitter accounts as keys and 0 or 1 as value\n",
    "classification = data.set_index('Twitter')['Izda'].to_dict()\n",
    "\n",
    "accounts_train = df_train['Twitter']\n",
    "accounts_val = df_val['Twitter']"
   ]
  },
  {
   "cell_type": "code",
   "execution_count": null,
   "id": "7f5b1753",
   "metadata": {
    "scrolled": true
   },
   "outputs": [
    {
     "name": "stdout",
     "output_type": "stream",
     "text": [
      "Completed:  @populares\n",
      "Completed:  @HogarSocial_\n",
      "Completed:  @Ortega_Smith\n",
      "Completed:  @monasterioR\n",
      "Completed:  @Macarena_Olona\n",
      "Completed:  @pablocasado_\n",
      "Completed:  @anapastorjulian\n",
      "Completed:  @sorayasds\n",
      "Completed:  @JuanMa_Moreno\n",
      "Completed:  @AlmeidaPP_\n",
      "Completed:  @dlacalle\n",
      "ERROR:  @eduardoinda\n"
     ]
    }
   ],
   "source": [
    "tweets_train, failed = import_tweets_from_list(list(accounts_train))\n",
    "\n",
    "print('\\n')\n",
    "if(failed == []):\n",
    "    print('All it is fine')\n",
    "else:\n",
    "    print('It have failed: ', failed)"
   ]
  },
  {
   "cell_type": "code",
   "execution_count": null,
   "id": "cab3e6a3",
   "metadata": {
    "scrolled": true
   },
   "outputs": [],
   "source": [
    "tweets_val, failed = import_tweets_from_list(list(accounts_val))\n",
    "\n",
    "print('\\n')\n",
    "if(failed == []):\n",
    "    print('All it is fine!')\n",
    "else:\n",
    "    print('It have failed: ', failed)"
   ]
  },
  {
   "cell_type": "code",
   "execution_count": null,
   "id": "052f1588",
   "metadata": {},
   "outputs": [],
   "source": [
    "# Here I'm saving the dfs in CSV format:\n",
    "OUT_FOLDER = '../0_DATA/'\n",
    "\n",
    "path = OUT_FOLDER + 'train-test_tweets.csv'\n",
    "df_train = list_to_csv(tweets_train, classification, path)\n",
    "\n",
    "path = OUT_FOLDER + 'val_tweets.csv'\n",
    "df_val = list_to_csv(tweets_val, classification, path)"
   ]
  },
  {
   "cell_type": "code",
   "execution_count": null,
   "id": "e9fe0bee",
   "metadata": {},
   "outputs": [],
   "source": [
    "df_val"
   ]
  }
 ],
 "metadata": {
  "kernelspec": {
   "display_name": "Python 3 (ipykernel)",
   "language": "python",
   "name": "python3"
  },
  "language_info": {
   "codemirror_mode": {
    "name": "ipython",
    "version": 3
   },
   "file_extension": ".py",
   "mimetype": "text/x-python",
   "name": "python",
   "nbconvert_exporter": "python",
   "pygments_lexer": "ipython3",
   "version": "3.9.5"
  }
 },
 "nbformat": 4,
 "nbformat_minor": 5
}
