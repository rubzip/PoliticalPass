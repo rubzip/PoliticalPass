{
 "cells": [
  {
   "cell_type": "code",
   "execution_count": 11,
   "id": "51935923",
   "metadata": {},
   "outputs": [],
   "source": [
    "import pandas as pd\n",
    "import numpy  as np\n",
    "import pickle\n",
    "import sklearn.model_selection as model_selection\n"
   ]
  },
  {
   "cell_type": "code",
   "execution_count": 9,
   "id": "6a7931d9",
   "metadata": {},
   "outputs": [
    {
     "data": {
      "text/html": [
       "<div>\n",
       "<style scoped>\n",
       "    .dataframe tbody tr th:only-of-type {\n",
       "        vertical-align: middle;\n",
       "    }\n",
       "\n",
       "    .dataframe tbody tr th {\n",
       "        vertical-align: top;\n",
       "    }\n",
       "\n",
       "    .dataframe thead th {\n",
       "        text-align: right;\n",
       "    }\n",
       "</style>\n",
       "<table border=\"1\" class=\"dataframe\">\n",
       "  <thead>\n",
       "    <tr style=\"text-align: right;\">\n",
       "      <th></th>\n",
       "      <th>X</th>\n",
       "      <th>y</th>\n",
       "    </tr>\n",
       "  </thead>\n",
       "  <tbody>\n",
       "    <tr>\n",
       "      <th>0</th>\n",
       "      <td>[922, 1087, 149, 134, 200, 34, 565, 92, 69, 13...</td>\n",
       "      <td>1</td>\n",
       "    </tr>\n",
       "    <tr>\n",
       "      <th>1</th>\n",
       "      <td>[30, 367, 601, 943, 43, 1385, 415, 215, 119, 6...</td>\n",
       "      <td>1</td>\n",
       "    </tr>\n",
       "    <tr>\n",
       "      <th>2</th>\n",
       "      <td>[460, 930, 71, 23, 0, 12, 79, 11, 59, 20, 673,...</td>\n",
       "      <td>1</td>\n",
       "    </tr>\n",
       "    <tr>\n",
       "      <th>3</th>\n",
       "      <td>[39, 952, 0]</td>\n",
       "      <td>1</td>\n",
       "    </tr>\n",
       "    <tr>\n",
       "      <th>4</th>\n",
       "      <td>[1074, 198, 603, 1083, 0, 1720, 199, 9, 5, 7, ...</td>\n",
       "      <td>1</td>\n",
       "    </tr>\n",
       "    <tr>\n",
       "      <th>...</th>\n",
       "      <td>...</td>\n",
       "      <td>...</td>\n",
       "    </tr>\n",
       "    <tr>\n",
       "      <th>5879</th>\n",
       "      <td>[507, 1233, 0, 1234, 570, 1755, 1, 658, 82]</td>\n",
       "      <td>0</td>\n",
       "    </tr>\n",
       "    <tr>\n",
       "      <th>5880</th>\n",
       "      <td>[1277, 558, 0, 108]</td>\n",
       "      <td>0</td>\n",
       "    </tr>\n",
       "    <tr>\n",
       "      <th>5881</th>\n",
       "      <td>[1189, 441, 776, 819, 0, 776, 558, 108]</td>\n",
       "      <td>0</td>\n",
       "    </tr>\n",
       "    <tr>\n",
       "      <th>5882</th>\n",
       "      <td>[660, 272, 153, 1077, 213]</td>\n",
       "      <td>0</td>\n",
       "    </tr>\n",
       "    <tr>\n",
       "      <th>5883</th>\n",
       "      <td>[254, 1436, 0, 25, 96, 1561, 1, 0, 451, 1, 107...</td>\n",
       "      <td>0</td>\n",
       "    </tr>\n",
       "  </tbody>\n",
       "</table>\n",
       "<p>5884 rows × 2 columns</p>\n",
       "</div>"
      ],
      "text/plain": [
       "                                                      X  y\n",
       "0     [922, 1087, 149, 134, 200, 34, 565, 92, 69, 13...  1\n",
       "1     [30, 367, 601, 943, 43, 1385, 415, 215, 119, 6...  1\n",
       "2     [460, 930, 71, 23, 0, 12, 79, 11, 59, 20, 673,...  1\n",
       "3                                          [39, 952, 0]  1\n",
       "4     [1074, 198, 603, 1083, 0, 1720, 199, 9, 5, 7, ...  1\n",
       "...                                                 ... ..\n",
       "5879        [507, 1233, 0, 1234, 570, 1755, 1, 658, 82]  0\n",
       "5880                                [1277, 558, 0, 108]  0\n",
       "5881            [1189, 441, 776, 819, 0, 776, 558, 108]  0\n",
       "5882                         [660, 272, 153, 1077, 213]  0\n",
       "5883  [254, 1436, 0, 25, 96, 1561, 1, 0, 451, 1, 107...  0\n",
       "\n",
       "[5884 rows x 2 columns]"
      ]
     },
     "execution_count": 9,
     "metadata": {},
     "output_type": "execute_result"
    }
   ],
   "source": [
    "with open('../cleaning/dataset.pickle', 'rb') as handle:\n",
    "    tweet_numberized = pickle.load(handle)\n",
    "    \n",
    "tweet_numberized\n"
   ]
  },
  {
   "cell_type": "code",
   "execution_count": 23,
   "id": "9590b2d5",
   "metadata": {},
   "outputs": [
    {
     "name": "stdout",
     "output_type": "stream",
     "text": [
      "Train examples:  4707\n",
      "Test examples:   1177\n"
     ]
    }
   ],
   "source": [
    "X = list(tweet_numberized['X'])\n",
    "y = list(tweet_numberized['y'])\n",
    "\n",
    "#Finally we are going to apply one-hot encoding to X:\n",
    "pass\n",
    "\n",
    "#The final step is to split our dataset:\n",
    "X_train, X_test, y_train, y_test = model_selection.train_test_split(X, y, train_size=0.8,test_size=0.2, random_state=101)\n",
    "\n",
    "print('Train examples: ', len(X_train))\n",
    "print('Test examples:  ', len(X_test))"
   ]
  },
  {
   "cell_type": "markdown",
   "id": "924f52bd",
   "metadata": {},
   "source": [
    "Finally we have data splited in train/test and correcty formated.\n",
    "We can start the deployment of our model"
   ]
  }
 ],
 "metadata": {
  "kernelspec": {
   "display_name": "Python 3 (ipykernel)",
   "language": "python",
   "name": "python3"
  },
  "language_info": {
   "codemirror_mode": {
    "name": "ipython",
    "version": 3
   },
   "file_extension": ".py",
   "mimetype": "text/x-python",
   "name": "python",
   "nbconvert_exporter": "python",
   "pygments_lexer": "ipython3",
   "version": "3.9.5"
  }
 },
 "nbformat": 4,
 "nbformat_minor": 5
}
