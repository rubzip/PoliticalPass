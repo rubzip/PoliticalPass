{
 "cells": [
  {
   "cell_type": "code",
   "execution_count": 1,
   "id": "1b0b6563",
   "metadata": {},
   "outputs": [],
   "source": [
    "import numpy as np\n",
    "import pandas as pd\n",
    "import json\n",
    "import matplotlib.pyplot as plt\n",
    "\n",
    "\n",
    "import time\n",
    "from datetime import datetime\n",
    "\n",
    "from fun import import_tweets"
   ]
  },
  {
   "cell_type": "code",
   "execution_count": 2,
   "id": "fb216d74",
   "metadata": {},
   "outputs": [
    {
     "data": {
      "text/html": [
       "<div>\n",
       "<style scoped>\n",
       "    .dataframe tbody tr th:only-of-type {\n",
       "        vertical-align: middle;\n",
       "    }\n",
       "\n",
       "    .dataframe tbody tr th {\n",
       "        vertical-align: top;\n",
       "    }\n",
       "\n",
       "    .dataframe thead th {\n",
       "        text-align: right;\n",
       "    }\n",
       "</style>\n",
       "<table border=\"1\" class=\"dataframe\">\n",
       "  <thead>\n",
       "    <tr style=\"text-align: right;\">\n",
       "      <th></th>\n",
       "      <th>Nombre</th>\n",
       "      <th>Ocupación</th>\n",
       "      <th>Afiliación</th>\n",
       "      <th>Izda</th>\n",
       "      <th>Twitter</th>\n",
       "    </tr>\n",
       "  </thead>\n",
       "  <tbody>\n",
       "    <tr>\n",
       "      <th>14</th>\n",
       "      <td>Álvaro Ojeda</td>\n",
       "      <td>Periodista</td>\n",
       "      <td>OKDiario</td>\n",
       "      <td>0</td>\n",
       "      <td>@alvaroojeda80</td>\n",
       "    </tr>\n",
       "    <tr>\n",
       "      <th>15</th>\n",
       "      <td>Cake Minuesa</td>\n",
       "      <td>Presentador</td>\n",
       "      <td>NaN</td>\n",
       "      <td>0</td>\n",
       "      <td>@cakealatake</td>\n",
       "    </tr>\n",
       "    <tr>\n",
       "      <th>16</th>\n",
       "      <td>Libertad y lo que Surja</td>\n",
       "      <td>Youtuber</td>\n",
       "      <td>NaN</td>\n",
       "      <td>0</td>\n",
       "      <td>@LibertadSurja</td>\n",
       "    </tr>\n",
       "    <tr>\n",
       "      <th>17</th>\n",
       "      <td>Melisa D. Ruiz</td>\n",
       "      <td>Twitero</td>\n",
       "      <td>HSM</td>\n",
       "      <td>0</td>\n",
       "      <td>@MelisaDRuiz</td>\n",
       "    </tr>\n",
       "    <tr>\n",
       "      <th>18</th>\n",
       "      <td>Wall Street Wolverine</td>\n",
       "      <td>Youtuber</td>\n",
       "      <td>NaN</td>\n",
       "      <td>0</td>\n",
       "      <td>@wallstwolverine</td>\n",
       "    </tr>\n",
       "  </tbody>\n",
       "</table>\n",
       "</div>"
      ],
      "text/plain": [
       "                     Nombre    Ocupación Afiliación  Izda           Twitter\n",
       "14             Álvaro Ojeda   Periodista   OKDiario     0    @alvaroojeda80\n",
       "15             Cake Minuesa  Presentador        NaN     0      @cakealatake\n",
       "16  Libertad y lo que Surja     Youtuber        NaN     0    @LibertadSurja\n",
       "17           Melisa D. Ruiz      Twitero        HSM     0      @MelisaDRuiz\n",
       "18    Wall Street Wolverine     Youtuber        NaN     0  @wallstwolverine"
      ]
     },
     "execution_count": 2,
     "metadata": {},
     "output_type": "execute_result"
    }
   ],
   "source": [
    "#Import data from CSV:\n",
    "\n",
    "data = pd.read_csv('../datos_prueba.csv')\n",
    "data.tail()"
   ]
  },
  {
   "cell_type": "code",
   "execution_count": 3,
   "id": "ef11e8da",
   "metadata": {},
   "outputs": [
    {
     "name": "stdout",
     "output_type": "stream",
     "text": [
      "1    10\n",
      "0     9\n",
      "Name: Izda, dtype: int64\n"
     ]
    },
    {
     "data": {
      "image/png": "[encoded data removed]",
      "text/plain": [
       "<Figure size 432x288 with 1 Axes>"
      ]
     },
     "metadata": {
      "needs_background": "light"
     },
     "output_type": "display_data"
    }
   ],
   "source": [
    "#How balanced is the dataset:\n",
    "balance = data['Izda'].value_counts()\n",
    "print(balance)\n",
    "\n",
    "\n",
    "balance.plot(kind='bar')\n",
    "\n",
    "plt.title('Data balance')\n",
    "plt.xlabel('Political orientation')\n",
    "\n",
    "plt.show()"
   ]
  },
  {
   "cell_type": "code",
   "execution_count": 4,
   "id": "ff771e95",
   "metadata": {},
   "outputs": [
    {
     "data": {
      "text/plain": [
       "1"
      ]
     },
     "execution_count": 4,
     "metadata": {},
     "output_type": "execute_result"
    }
   ],
   "source": [
    "#We transform data:\n",
    "\n",
    "clasification = zip(data['Twitter'], data['Izda'])\n",
    "clasification = dict(clasification)\n",
    "\n",
    "clasification[\"@PODEMOS\"]"
   ]
  },
  {
   "cell_type": "code",
   "execution_count": 5,
   "id": "6314d0fe",
   "metadata": {},
   "outputs": [
    {
     "name": "stdout",
     "output_type": "stream",
     "text": [
      "@PODEMOS completed.\n",
      "@IzquierdaUnida completed.\n",
      "@AlmasVeganas completed.\n",
      "@carmencalvo_ completed.\n",
      "@PabloIglesias completed.\n",
      "@juanrallo completed.\n",
      "@pacomarhuenda completed.\n",
      "@alvaroojeda80 completed.\n",
      "@LibertadSurja completed.\n",
      "@wallstwolverine completed.\n",
      "1 - Loop ended. Time of execution: 267.24467 s\n",
      "\n",
      "@PSOE completed.\n",
      "@sanchezcastejon completed.\n",
      "@IreneMontero completed.\n",
      "@eduardoinda completed.\n",
      "@MelisaDRuiz completed.\n",
      "2 - Loop ended. Time of execution: 408.795966 s\n",
      "\n",
      "@anticapi completed.\n",
      "@dlacalle completed.\n",
      "3 - Loop ended. Time of execution: 475.560542 s\n",
      "\n",
      "@JosepBorrellF completed.\n",
      "4 - Loop ended. Time of execution: 511.015778 s\n",
      "\n",
      "@cakealatake completed.\n",
      "5 - Loop ended. Time of execution: 558.460636 s\n",
      "\n"
     ]
    }
   ],
   "source": [
    "#POSIBLE IMPROVEMENT ---> IMPLEMENT CONCURRENCY\n",
    "\n",
    "#I have made this function to measure how much time spends the function:\n",
    "ini = datetime.now()\n",
    "time_execution = lambda : (datetime.now() - ini).total_seconds()\n",
    "max_min = 60\n",
    "\n",
    "#We store at directions that remain to be downloaded in a list:\n",
    "remaining = list(clasification.keys())\n",
    "all_tweets = dict()\n",
    "\n",
    "i = 1\n",
    "while((remaining != []) and (time_execution()<max_min*60)):\n",
    "    for at in remaining:\n",
    "        #We call import_tweets function\n",
    "        tweets = import_tweets(at, 600)\n",
    "    \n",
    "        if(tweets == 0):\n",
    "            print(\"ERROR: \" + at)\n",
    "        else:\n",
    "            print(at + \" completed.\")\n",
    "            all_tweets[at] = tweets\n",
    "            remaining.remove(at)\n",
    "\n",
    "    print( \"{} - Loop ended. Time of execution: {} s\\n\".format(i, time_execution()) )\n",
    "    i += 1\n",
    "    time.sleep(10)"
   ]
  },
  {
   "cell_type": "code",
   "execution_count": 6,
   "id": "49045e8c",
   "metadata": {},
   "outputs": [
    {
     "name": "stdout",
     "output_type": "stream",
     "text": [
      "All it's OK!\n"
     ]
    }
   ],
   "source": [
    "if(remaining == []):\n",
    "    print(\"All it's OK!\")\n",
    "else:\n",
    "    print(\"We couldn't load tweets from:\")\n",
    "    for i in remaining:\n",
    "        print(i)"
   ]
  },
  {
   "cell_type": "code",
   "execution_count": 7,
   "id": "27fa2323",
   "metadata": {},
   "outputs": [
    {
     "name": "stdout",
     "output_type": "stream",
     "text": [
      "Tweets downloaded right wing:  4060\n",
      "Tweets downloaded left wing:  3223\n"
     ]
    },
    {
     "data": {
      "image/png": "[encoded data removed]",
      "text/plain": [
       "<Figure size 432x288 with 1 Axes>"
      ]
     },
     "metadata": {
      "needs_background": "light"
     },
     "output_type": "display_data"
    }
   ],
   "source": [
    "total_left = 0\n",
    "total_right = 0\n",
    "for i in all_tweets:\n",
    "    if (1 == clasification[i]):\n",
    "        total_left += len(all_tweets[i])\n",
    "    else:\n",
    "        total_right += len(all_tweets[i])\n",
    "\n",
    "print(\"Tweets downloaded right wing: \", total_right)\n",
    "print(\"Tweets downloaded left wing: \", total_left)\n",
    "\n",
    "plt.bar(['Left', 'Right'], [total_left, total_right])\n",
    "plt.title('Data balance')\n",
    "plt.xlabel('Political orientation')\n",
    "\n",
    "plt.show()"
   ]
  },
  {
   "cell_type": "code",
   "execution_count": 8,
   "id": "6ec6476c",
   "metadata": {},
   "outputs": [
    {
     "name": "stdout",
     "output_type": "stream",
     "text": [
      "Number of tweets: 7283\n",
      "Longest at: 16, (@sanchezcastejon)\n",
      "Longest tweet length: 368\n"
     ]
    }
   ],
   "source": [
    "#The total number of tweets:\n",
    "k = 0\n",
    "for i in all_tweets:\n",
    "    k += len(all_tweets[i])\n",
    "print(\"Number of tweets: {}\".format(k))\n",
    "\n",
    "#Length of the longest at:\n",
    "max_at = 0\n",
    "for i in clasification:\n",
    "    if(max_at < len(i)):\n",
    "        max_at = len(i)\n",
    "        at = i\n",
    "print(\"Longest at: {}, ({})\".format(max_at, at))\n",
    "#Length of the longest tweet:\n",
    "max_l = 0\n",
    "for i in all_tweets:\n",
    "    for j in all_tweets[i]:\n",
    "        if(max_l < len(j)):\n",
    "            max_l = len(j)\n",
    "print(\"Longest tweet length: {}\".format(max_l))"
   ]
  },
  {
   "cell_type": "code",
   "execution_count": 9,
   "id": "28531dc5",
   "metadata": {},
   "outputs": [
    {
     "data": {
      "text/html": [
       "<div>\n",
       "<style scoped>\n",
       "    .dataframe tbody tr th:only-of-type {\n",
       "        vertical-align: middle;\n",
       "    }\n",
       "\n",
       "    .dataframe tbody tr th {\n",
       "        vertical-align: top;\n",
       "    }\n",
       "\n",
       "    .dataframe thead th {\n",
       "        text-align: right;\n",
       "    }\n",
       "</style>\n",
       "<table border=\"1\" class=\"dataframe\">\n",
       "  <thead>\n",
       "    <tr style=\"text-align: right;\">\n",
       "      <th></th>\n",
       "      <th>User</th>\n",
       "      <th>Tweet</th>\n",
       "      <th>Left</th>\n",
       "    </tr>\n",
       "  </thead>\n",
       "  <tbody>\n",
       "    <tr>\n",
       "      <th>0</th>\n",
       "      <td>@PODEMOS</td>\n",
       "      <td>📽️ @isaserras: \"no hay más excusas. se pueden ...</td>\n",
       "      <td>1</td>\n",
       "    </tr>\n",
       "    <tr>\n",
       "      <th>1</th>\n",
       "      <td>@PODEMOS</td>\n",
       "      <td>👉el pp lleva más de 1000 días bloqueando la re...</td>\n",
       "      <td>1</td>\n",
       "    </tr>\n",
       "    <tr>\n",
       "      <th>2</th>\n",
       "      <td>@PODEMOS</td>\n",
       "      <td>📽️ @isaserras: \"nos parece central que estos p...</td>\n",
       "      <td>1</td>\n",
       "    </tr>\n",
       "    <tr>\n",
       "      <th>3</th>\n",
       "      <td>@PODEMOS</td>\n",
       "      <td>🔴 en directo: rueda de prensa de @isaserras y ...</td>\n",
       "      <td>1</td>\n",
       "    </tr>\n",
       "    <tr>\n",
       "      <th>4</th>\n",
       "      <td>@PODEMOS</td>\n",
       "      <td>🇺🇸 los aliados de vox en texas han logrado pro...</td>\n",
       "      <td>1</td>\n",
       "    </tr>\n",
       "    <tr>\n",
       "      <th>...</th>\n",
       "      <td>...</td>\n",
       "      <td>...</td>\n",
       "      <td>...</td>\n",
       "    </tr>\n",
       "    <tr>\n",
       "      <th>7278</th>\n",
       "      <td>@cakealatake</td>\n",
       "      <td>arde la calle- invasión de ceuta y melilla htt...</td>\n",
       "      <td>0</td>\n",
       "    </tr>\n",
       "    <tr>\n",
       "      <th>7279</th>\n",
       "      <td>@cakealatake</td>\n",
       "      <td>en tiempos difíciles hay quien da la cara....p...</td>\n",
       "      <td>0</td>\n",
       "    </tr>\n",
       "    <tr>\n",
       "      <th>7280</th>\n",
       "      <td>@cakealatake</td>\n",
       "      <td>@manhattanmanone @telemadrid qué grande antoni...</td>\n",
       "      <td>0</td>\n",
       "    </tr>\n",
       "    <tr>\n",
       "      <th>7281</th>\n",
       "      <td>@cakealatake</td>\n",
       "      <td>@cvsaotxo minuesa...con m.</td>\n",
       "      <td>0</td>\n",
       "    </tr>\n",
       "    <tr>\n",
       "      <th>7282</th>\n",
       "      <td>@cakealatake</td>\n",
       "      <td>se llama sergio sayas @sergiosayas y se pasear...</td>\n",
       "      <td>0</td>\n",
       "    </tr>\n",
       "  </tbody>\n",
       "</table>\n",
       "<p>7283 rows × 3 columns</p>\n",
       "</div>"
      ],
      "text/plain": [
       "              User                                              Tweet  Left\n",
       "0         @PODEMOS  📽️ @isaserras: \"no hay más excusas. se pueden ...     1\n",
       "1         @PODEMOS  👉el pp lleva más de 1000 días bloqueando la re...     1\n",
       "2         @PODEMOS  📽️ @isaserras: \"nos parece central que estos p...     1\n",
       "3         @PODEMOS  🔴 en directo: rueda de prensa de @isaserras y ...     1\n",
       "4         @PODEMOS  🇺🇸 los aliados de vox en texas han logrado pro...     1\n",
       "...            ...                                                ...   ...\n",
       "7278  @cakealatake  arde la calle- invasión de ceuta y melilla htt...     0\n",
       "7279  @cakealatake  en tiempos difíciles hay quien da la cara....p...     0\n",
       "7280  @cakealatake  @manhattanmanone @telemadrid qué grande antoni...     0\n",
       "7281  @cakealatake                         @cvsaotxo minuesa...con m.     0\n",
       "7282  @cakealatake  se llama sergio sayas @sergiosayas y se pasear...     0\n",
       "\n",
       "[7283 rows x 3 columns]"
      ]
     },
     "execution_count": 9,
     "metadata": {},
     "output_type": "execute_result"
    }
   ],
   "source": [
    "data_to_csv = []\n",
    "for at in all_tweets:\n",
    "    for tweet in all_tweets[at]:\n",
    "        data_to_csv.append( (at, tweet, clasification[at]) )\n",
    "\n",
    "colunms = ['User', 'Tweet', 'Left']\n",
    "df = pd.DataFrame(data_to_csv, columns=colunms)\n",
    "df.to_csv('raw_tweets.csv', index=False)\n",
    "df"
   ]
  }
 ],
 "metadata": {
  "kernelspec": {
   "display_name": "Python 3 (ipykernel)",
   "language": "python",
   "name": "python3"
  },
  "language_info": {
   "codemirror_mode": {
    "name": "ipython",
    "version": 3
   },
   "file_extension": ".py",
   "mimetype": "text/x-python",
   "name": "python",
   "nbconvert_exporter": "python",
   "pygments_lexer": "ipython3",
   "version": "3.9.5"
  }
 },
 "nbformat": 4,
 "nbformat_minor": 5
}
