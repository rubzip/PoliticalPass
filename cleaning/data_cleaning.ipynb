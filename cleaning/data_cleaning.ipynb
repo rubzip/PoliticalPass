{
 "cells": [
  {
   "cell_type": "code",
   "execution_count": 1,
   "id": "031fce4f",
   "metadata": {},
   "outputs": [],
   "source": [
    "import pandas as pd\n",
    "import numpy as np\n",
    "import nltk\n",
    "#NLTK\n",
    "#TexBlov\n",
    "#Gensim\n",
    "#SpaCy"
   ]
  },
  {
   "cell_type": "code",
   "execution_count": 3,
   "id": "a1dac4ab",
   "metadata": {},
   "outputs": [
    {
     "data": {
      "text/html": [
       "<div>\n",
       "<style scoped>\n",
       "    .dataframe tbody tr th:only-of-type {\n",
       "        vertical-align: middle;\n",
       "    }\n",
       "\n",
       "    .dataframe tbody tr th {\n",
       "        vertical-align: top;\n",
       "    }\n",
       "\n",
       "    .dataframe thead th {\n",
       "        text-align: right;\n",
       "    }\n",
       "</style>\n",
       "<table border=\"1\" class=\"dataframe\">\n",
       "  <thead>\n",
       "    <tr style=\"text-align: right;\">\n",
       "      <th></th>\n",
       "      <th>User</th>\n",
       "      <th>Tweet</th>\n",
       "      <th>Left</th>\n",
       "    </tr>\n",
       "  </thead>\n",
       "  <tbody>\n",
       "    <tr>\n",
       "      <th>0</th>\n",
       "      <td>@PODEMOS</td>\n",
       "      <td>Estamos viviendo una reacción antidemocrática ...</td>\n",
       "      <td>1</td>\n",
       "    </tr>\n",
       "    <tr>\n",
       "      <th>1</th>\n",
       "      <td>@PODEMOS</td>\n",
       "      <td>Este caso demuestra, una vez más, que sin un p...</td>\n",
       "      <td>1</td>\n",
       "    </tr>\n",
       "    <tr>\n",
       "      <th>2</th>\n",
       "      <td>@PODEMOS</td>\n",
       "      <td>Triplete para Casado. Por enésima vez se demue...</td>\n",
       "      <td>1</td>\n",
       "    </tr>\n",
       "    <tr>\n",
       "      <th>3</th>\n",
       "      <td>@PODEMOS</td>\n",
       "      <td>Rey pluriempleado. Lo que hace la precariedad ...</td>\n",
       "      <td>1</td>\n",
       "    </tr>\n",
       "    <tr>\n",
       "      <th>4</th>\n",
       "      <td>@PODEMOS</td>\n",
       "      <td>Seis noticias de la misma semana. Diferencias....</td>\n",
       "      <td>1</td>\n",
       "    </tr>\n",
       "  </tbody>\n",
       "</table>\n",
       "</div>"
      ],
      "text/plain": [
       "       User                                              Tweet  Left\n",
       "0  @PODEMOS  Estamos viviendo una reacción antidemocrática ...     1\n",
       "1  @PODEMOS  Este caso demuestra, una vez más, que sin un p...     1\n",
       "2  @PODEMOS  Triplete para Casado. Por enésima vez se demue...     1\n",
       "3  @PODEMOS  Rey pluriempleado. Lo que hace la precariedad ...     1\n",
       "4  @PODEMOS  Seis noticias de la misma semana. Diferencias....     1"
      ]
     },
     "execution_count": 3,
     "metadata": {},
     "output_type": "execute_result"
    }
   ],
   "source": [
    "df = pd.read_csv('../mining/raw_tweets.csv')\n",
    "df.head()"
   ]
  },
  {
   "cell_type": "code",
   "execution_count": 3,
   "id": "f2738882",
   "metadata": {},
   "outputs": [],
   "source": [
    "#https://likegeeks.com/es/tutorial-de-nlp-con-python-nltk/#Implementaciones_del_NLP\n"
   ]
  }
 ],
 "metadata": {
  "kernelspec": {
   "display_name": "Python 3 (ipykernel)",
   "language": "python",
   "name": "python3"
  },
  "language_info": {
   "codemirror_mode": {
    "name": "ipython",
    "version": 3
   },
   "file_extension": ".py",
   "mimetype": "text/x-python",
   "name": "python",
   "nbconvert_exporter": "python",
   "pygments_lexer": "ipython3",
   "version": "3.9.5"
  }
 },
 "nbformat": 4,
 "nbformat_minor": 5
}
