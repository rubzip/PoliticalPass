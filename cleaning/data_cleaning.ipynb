{
 "cells": [
  {
   "cell_type": "code",
   "execution_count": 51,
   "id": "031fce4f",
   "metadata": {},
   "outputs": [],
   "source": [
    "import pandas as pd\n",
    "import numpy as np\n",
    "\n",
    "import nltk\n",
    "from nltk.tokenize import word_tokenize\n",
    "from nltk.corpus import stopwords, wordnet\n",
    "\n",
    "#https://github.com/pablodms/spacy-spanish-lemmatizer\n",
    "\n",
    "\n",
    "\n",
    "#NLTK\n",
    "#TexBlov\n",
    "#Gensim\n",
    "#SpaCy"
   ]
  },
  {
   "cell_type": "code",
   "execution_count": 7,
   "id": "a1dac4ab",
   "metadata": {},
   "outputs": [
    {
     "data": {
      "text/html": [
       "<div>\n",
       "<style scoped>\n",
       "    .dataframe tbody tr th:only-of-type {\n",
       "        vertical-align: middle;\n",
       "    }\n",
       "\n",
       "    .dataframe tbody tr th {\n",
       "        vertical-align: top;\n",
       "    }\n",
       "\n",
       "    .dataframe thead th {\n",
       "        text-align: right;\n",
       "    }\n",
       "</style>\n",
       "<table border=\"1\" class=\"dataframe\">\n",
       "  <thead>\n",
       "    <tr style=\"text-align: right;\">\n",
       "      <th></th>\n",
       "      <th>User</th>\n",
       "      <th>Tweet</th>\n",
       "      <th>Left</th>\n",
       "    </tr>\n",
       "  </thead>\n",
       "  <tbody>\n",
       "    <tr>\n",
       "      <th>0</th>\n",
       "      <td>@PODEMOS</td>\n",
       "      <td>Estamos viviendo una reacción antidemocrática ...</td>\n",
       "      <td>1</td>\n",
       "    </tr>\n",
       "    <tr>\n",
       "      <th>1</th>\n",
       "      <td>@PODEMOS</td>\n",
       "      <td>Este caso demuestra, una vez más, que sin un p...</td>\n",
       "      <td>1</td>\n",
       "    </tr>\n",
       "    <tr>\n",
       "      <th>2</th>\n",
       "      <td>@PODEMOS</td>\n",
       "      <td>Triplete para Casado. Por enésima vez se demue...</td>\n",
       "      <td>1</td>\n",
       "    </tr>\n",
       "    <tr>\n",
       "      <th>3</th>\n",
       "      <td>@PODEMOS</td>\n",
       "      <td>Rey pluriempleado. Lo que hace la precariedad ...</td>\n",
       "      <td>1</td>\n",
       "    </tr>\n",
       "    <tr>\n",
       "      <th>4</th>\n",
       "      <td>@PODEMOS</td>\n",
       "      <td>Seis noticias de la misma semana. Diferencias....</td>\n",
       "      <td>1</td>\n",
       "    </tr>\n",
       "  </tbody>\n",
       "</table>\n",
       "</div>"
      ],
      "text/plain": [
       "       User                                              Tweet  Left\n",
       "0  @PODEMOS  Estamos viviendo una reacción antidemocrática ...     1\n",
       "1  @PODEMOS  Este caso demuestra, una vez más, que sin un p...     1\n",
       "2  @PODEMOS  Triplete para Casado. Por enésima vez se demue...     1\n",
       "3  @PODEMOS  Rey pluriempleado. Lo que hace la precariedad ...     1\n",
       "4  @PODEMOS  Seis noticias de la misma semana. Diferencias....     1"
      ]
     },
     "execution_count": 7,
     "metadata": {},
     "output_type": "execute_result"
    }
   ],
   "source": [
    "df = pd.read_csv('../mining/raw_tweets.csv')\n",
    "df.head()"
   ]
  },
  {
   "cell_type": "code",
   "execution_count": 16,
   "id": "520ab2cd",
   "metadata": {},
   "outputs": [
    {
     "name": "stdout",
     "output_type": "stream",
     "text": [
      "Estamos viviendo una reacción antidemocrática por parte del CGPJ con el fin de bloquear los avances sociales y eximir la corrupción del PP. Si continúa esta deslegitimación del Poder Judicial, una solución sería su dimisión.\n",
      "\n",
      "Lo explica @isaserras 👇 \n",
      "\n",
      "🔗 https://t.co/rnFzXvMU4e https://t.co/0Lar55hHvI\n"
     ]
    }
   ],
   "source": [
    "tweet_prueba = 'Estamos viviendo una reacción antidemocrática por parte del CGPJ con el fin de bloquear los avances sociales y eximir la corrupción del PP. Si continúa esta deslegitimación del Poder Judicial, una solución sería su dimisión.\\n\\nLo explica @isaserras 👇 \\n\\n🔗 https://t.co/rnFzXvMU4e https://t.co/0Lar55hHvI'\n",
    "print(tweet_prueba)"
   ]
  },
  {
   "cell_type": "code",
   "execution_count": 54,
   "id": "f2738882",
   "metadata": {},
   "outputs": [
    {
     "name": "stdout",
     "output_type": "stream",
     "text": [
      "50\n",
      "['Estamos', 'viviendo', 'una', 'reacción', 'antidemocrática', 'por', 'parte', 'del', 'CGPJ', 'con', 'el', 'fin', 'de', 'bloquear', 'los', 'avances', 'sociales', 'y', 'eximir', 'la', 'corrupción', 'del', 'PP', '.', 'Si', 'continúa', 'esta', 'deslegitimación', 'del', 'Poder', 'Judicial', ',', 'una', 'solución', 'sería', 'su', 'dimisión', '.', 'Lo', 'explica', '@', 'isaserras', '👇', '🔗', 'https', ':', '//t.co/rnFzXvMU4e', 'https', ':', '//t.co/0Lar55hHvI']\n",
      "33\n",
      "['Estamos', 'viviendo', 'reacción', 'antidemocrática', 'parte', 'CGPJ', 'fin', 'bloquear', 'avances', 'sociales', 'eximir', 'corrupción', 'PP', '.', 'Si', 'continúa', 'deslegitimación', 'Poder', 'Judicial', ',', 'solución', 'dimisión', '.', 'Lo', 'explica', '@', 'isaserras', '👇', '🔗', ':', '//t.co/rnFzXvMU4e', ':', '//t.co/0Lar55hHvI']\n"
     ]
    }
   ],
   "source": [
    "#Tokenize\n",
    "tweet_tokenized = word_tokenize(tweet_prueba, 'spanish')\n",
    "\n",
    "print(len(tweet_tokenized))\n",
    "print(tweet_tokenized)\n",
    "\n",
    "#Clean stopwords\n",
    "clean_tokens = tweet_tokenized[:]\n",
    "sw = stopwords.words('spanish')\n",
    "for token in tweet_tokenized:\n",
    "    #We are going to remove URLs and stopwords:\n",
    "    if((token in sw)or('http' in token)):\n",
    "        clean_tokens.remove(token)\n",
    "\n",
    "print(len(clean_tokens))\n",
    "print(clean_tokens)\n",
    "\n",
    "#\n",
    "        \n",
    "        \n",
    "        \n",
    "        \n",
    "\n",
    "#https://es.stackoverflow.com/questions/331602/c%C3%B3mo-lematizar-en-espa%C3%B1ol-una-string-con-nltk\n",
    "\n"
   ]
  },
  {
   "cell_type": "code",
   "execution_count": null,
   "id": "9da08ac8",
   "metadata": {},
   "outputs": [],
   "source": [
    "#Tokenize\n",
    "tweet_tokenized = word_tokenize(tweet_prueba, 'spanish')\n",
    "\n",
    "print(len(tweet_tokenized))\n",
    "print(tweet_tokenized)\n",
    "\n",
    "#Clean stopwords\n",
    "clean_tokens = tweet_tokenized[:]\n",
    "sw = stopwords.words('spanish')\n",
    "for token in tweet_tokenized:\n",
    "    #We are going to remove URLs and stopwords:\n",
    "    if((token in sw)or('http' in token)):\n",
    "        clean_tokens.remove(token)\n",
    "\n",
    "print(len(clean_tokens))\n",
    "print(clean_tokens)\n"
   ]
  },
  {
   "cell_type": "code",
   "execution_count": 4,
   "id": "65c7e44e",
   "metadata": {},
   "outputs": [],
   "source": [
    "#PASOS:\n",
    "#   0.- .lower()\n",
    "#   1.- Tokenize words\n",
    "#   2.- Remove stopwords\n",
    "#   3.- Lemmatize words\n",
    "#   4.- Synonims https://stackoverflow.com/questions/49480598/create-a-list-in-python-with-spanish-synonyms-from-spanish-word\n",
    "\n",
    "\n",
    "\n",
    "\n",
    "def clean_tweet(raw_tweet):\n",
    "    #tokenize tweet:\n",
    "    tokenize_tweet = sent_tokenize(raw_tweet, \"sp\")"
   ]
  }
 ],
 "metadata": {
  "kernelspec": {
   "display_name": "Python 3 (ipykernel)",
   "language": "python",
   "name": "python3"
  },
  "language_info": {
   "codemirror_mode": {
    "name": "ipython",
    "version": 3
   },
   "file_extension": ".py",
   "mimetype": "text/x-python",
   "name": "python",
   "nbconvert_exporter": "python",
   "pygments_lexer": "ipython3",
   "version": "3.9.5"
  }
 },
 "nbformat": 4,
 "nbformat_minor": 5
}
