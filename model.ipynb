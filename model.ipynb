{
 "cells": [
  {
   "cell_type": "code",
   "execution_count": 1,
   "id": "51935923",
   "metadata": {},
   "outputs": [],
   "source": [
    "import pandas as pd\n",
    "import numpy  as np\n",
    "import pickle\n",
    "\n",
    "import sklearn.model_selection as model_selection\n",
    "import matplotlib.pyplot as plt"
   ]
  },
  {
   "cell_type": "code",
   "execution_count": 2,
   "id": "6a7931d9",
   "metadata": {},
   "outputs": [
    {
     "data": {
      "text/html": [
       "<div>\n",
       "<style scoped>\n",
       "    .dataframe tbody tr th:only-of-type {\n",
       "        vertical-align: middle;\n",
       "    }\n",
       "\n",
       "    .dataframe tbody tr th {\n",
       "        vertical-align: top;\n",
       "    }\n",
       "\n",
       "    .dataframe thead th {\n",
       "        text-align: right;\n",
       "    }\n",
       "</style>\n",
       "<table border=\"1\" class=\"dataframe\">\n",
       "  <thead>\n",
       "    <tr style=\"text-align: right;\">\n",
       "      <th></th>\n",
       "      <th>X</th>\n",
       "      <th>y</th>\n",
       "    </tr>\n",
       "  </thead>\n",
       "  <tbody>\n",
       "    <tr>\n",
       "      <th>0</th>\n",
       "      <td>[1741, 10, 1011, 0, 1160, 224, 408, 632, 5, 20...</td>\n",
       "      <td>1.0</td>\n",
       "    </tr>\n",
       "    <tr>\n",
       "      <th>1</th>\n",
       "      <td>[101, 45, 29, 950, 115, 11]</td>\n",
       "      <td>1.0</td>\n",
       "    </tr>\n",
       "    <tr>\n",
       "      <th>2</th>\n",
       "      <td>[153, 16, 101, 806, 158, 11, 363, 101, 1945, 8...</td>\n",
       "      <td>1.0</td>\n",
       "    </tr>\n",
       "    <tr>\n",
       "      <th>3</th>\n",
       "      <td>[1371, 935, 99, 187, 298, 57, 1028, 236, 55, 1...</td>\n",
       "      <td>1.0</td>\n",
       "    </tr>\n",
       "    <tr>\n",
       "      <th>4</th>\n",
       "      <td>[15, 917, 1196, 420, 297, 303, 1209, 21, 532, ...</td>\n",
       "      <td>1.0</td>\n",
       "    </tr>\n",
       "    <tr>\n",
       "      <th>...</th>\n",
       "      <td>...</td>\n",
       "      <td>...</td>\n",
       "    </tr>\n",
       "    <tr>\n",
       "      <th>38419</th>\n",
       "      <td>[1054, 1473, 983]</td>\n",
       "      <td>0.0</td>\n",
       "    </tr>\n",
       "    <tr>\n",
       "      <th>38420</th>\n",
       "      <td>[1054, 650, 1187]</td>\n",
       "      <td>0.0</td>\n",
       "    </tr>\n",
       "    <tr>\n",
       "      <th>38421</th>\n",
       "      <td>[567, 141, 81, 1110]</td>\n",
       "      <td>0.0</td>\n",
       "    </tr>\n",
       "    <tr>\n",
       "      <th>38422</th>\n",
       "      <td>[24, 933, 516, 1320]</td>\n",
       "      <td>0.0</td>\n",
       "    </tr>\n",
       "    <tr>\n",
       "      <th>38423</th>\n",
       "      <td>[534, 1303, 219]</td>\n",
       "      <td>0.0</td>\n",
       "    </tr>\n",
       "  </tbody>\n",
       "</table>\n",
       "<p>38424 rows × 2 columns</p>\n",
       "</div>"
      ],
      "text/plain": [
       "                                                       X    y\n",
       "0      [1741, 10, 1011, 0, 1160, 224, 408, 632, 5, 20...  1.0\n",
       "1                            [101, 45, 29, 950, 115, 11]  1.0\n",
       "2      [153, 16, 101, 806, 158, 11, 363, 101, 1945, 8...  1.0\n",
       "3      [1371, 935, 99, 187, 298, 57, 1028, 236, 55, 1...  1.0\n",
       "4      [15, 917, 1196, 420, 297, 303, 1209, 21, 532, ...  1.0\n",
       "...                                                  ...  ...\n",
       "38419                                  [1054, 1473, 983]  0.0\n",
       "38420                                  [1054, 650, 1187]  0.0\n",
       "38421                               [567, 141, 81, 1110]  0.0\n",
       "38422                               [24, 933, 516, 1320]  0.0\n",
       "38423                                   [534, 1303, 219]  0.0\n",
       "\n",
       "[38424 rows x 2 columns]"
      ]
     },
     "execution_count": 2,
     "metadata": {},
     "output_type": "execute_result"
    }
   ],
   "source": [
    "with open('../cleaning/dataset.pickle', 'rb') as handle:\n",
    "    tweet_numberized = pickle.load(handle)\n",
    "    \n",
    "tweet_numberized\n"
   ]
  },
  {
   "cell_type": "code",
   "execution_count": 3,
   "id": "5b1cc706",
   "metadata": {},
   "outputs": [
    {
     "data": {
      "image/png": "[encoded data removed]",
      "text/plain": [
       "<Figure size 432x288 with 1 Axes>"
      ]
     },
     "metadata": {
      "needs_background": "light"
     },
     "output_type": "display_data"
    }
   ],
   "source": [
    "balance = tweet_numberized['y'].value_counts().to_dict()\n",
    "balance = [balance[1.0], balance[0.0]]\n",
    "\n",
    "plt.bar(['Left', 'Right'], balance)\n",
    "\n",
    "plt.title('Data balance')\n",
    "plt.xlabel('Political orientation')\n",
    "plt.ylabel('Number of Tweets')\n",
    "\n",
    "plt.show()"
   ]
  },
  {
   "cell_type": "code",
   "execution_count": 4,
   "id": "9590b2d5",
   "metadata": {},
   "outputs": [
    {
     "name": "stdout",
     "output_type": "stream",
     "text": [
      "Train examples:  30739\n",
      "Test examples:   7685\n"
     ]
    }
   ],
   "source": [
    "X = list(tweet_numberized['X'])\n",
    "y = list(tweet_numberized['y'])\n",
    "\n",
    "#The final step is to split our dataset:\n",
    "X_train, X_test, y_train, y_test = model_selection.train_test_split(X, y, train_size=0.8,test_size=0.2, random_state=101)\n",
    "\n",
    "print('Train examples: ', len(X_train))\n",
    "print('Test examples:  ', len(X_test))"
   ]
  },
  {
   "cell_type": "code",
   "execution_count": 5,
   "id": "6598b0a7",
   "metadata": {},
   "outputs": [],
   "source": [
    "#Finally we are going to apply one-hot encoding to X:\n",
    "pass\n"
   ]
  },
  {
   "cell_type": "markdown",
   "id": "924f52bd",
   "metadata": {},
   "source": [
    "Finally we have data splited in train/test and correcty formated.\n",
    "We can start the deployment of our model"
   ]
  }
 ],
 "metadata": {
  "kernelspec": {
   "display_name": "Python 3 (ipykernel)",
   "language": "python",
   "name": "python3"
  },
  "language_info": {
   "codemirror_mode": {
    "name": "ipython",
    "version": 3
   },
   "file_extension": ".py",
   "mimetype": "text/x-python",
   "name": "python",
   "nbconvert_exporter": "python",
   "pygments_lexer": "ipython3",
   "version": "3.9.5"
  }
 },
 "nbformat": 4,
 "nbformat_minor": 5
}
